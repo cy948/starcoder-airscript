{
 "cells": [
  {
   "cell_type": "code",
   "execution_count": 8,
   "metadata": {},
   "outputs": [],
   "source": [
    "# Gobal variables\n",
    "FILE_LABELED_DATA_PATH = 'data/all.jsonl'\n",
    "FILE_LABELED_DATA_VERSION = '2.0'"
   ]
  },
  {
   "cell_type": "markdown",
   "metadata": {},
   "source": [
    "# Load and build dataset from labeled data"
   ]
  },
  {
   "cell_type": "markdown",
   "metadata": {},
   "source": [
    "## Parse the raw data from doccano"
   ]
  },
  {
   "cell_type": "markdown",
   "metadata": {},
   "source": [
    "- Download the labeled data from doccano and extract to `FILE_LEBELED_DATA`\n",
    "- Use the script to extract and load as in-memory dataset"
   ]
  },
  {
   "cell_type": "code",
   "execution_count": 13,
   "metadata": {},
   "outputs": [
    {
     "data": {
      "text/plain": [
       "Dataset({\n",
       "    features: ['link', 'code', 'version'],\n",
       "    num_rows: 77\n",
       "})"
      ]
     },
     "execution_count": 13,
     "metadata": {},
     "output_type": "execute_result"
    }
   ],
   "source": [
    "import pandas as pd\n",
    "import jsonlines\n",
    "from datasets import Dataset\n",
    "\n",
    "raw_data = []\n",
    "with jsonlines.open(FILE_LABELED_DATA_PATH) as reader:\n",
    "    for obj in reader:\n",
    "        for label in obj['label']:\n",
    "            raw_data.append({\n",
    "                'link': obj['link'],\n",
    "                'code': label,\n",
    "                'version': FILE_LABELED_DATA_VERSION,\n",
    "            })\n",
    "\n",
    "dataset = Dataset.from_pandas(pd.DataFrame(raw_data))\n",
    "dataset"
   ]
  },
  {
   "cell_type": "markdown",
   "metadata": {},
   "source": [
    "## Save to local or Huggingface hub"
   ]
  },
  {
   "cell_type": "markdown",
   "metadata": {},
   "source": [
    "- Save to huggingface hub\n",
    "\n",
    "> \n",
    "> If not logged in, should login first\n",
    "> ```sh\n",
    ">   huggingface-cli login\n",
    ">\n",
    "> ```"
   ]
  },
  {
   "cell_type": "code",
   "execution_count": 5,
   "metadata": {},
   "outputs": [
    {
     "data": {
      "application/vnd.jupyter.widget-view+json": {
       "model_id": "43ef47d9d72f49b8bdfdf6efc0ae5e59",
       "version_major": 2,
       "version_minor": 0
      },
      "text/plain": [
       "Saving the dataset (0/1 shards):   0%|          | 0/77 [00:00<?, ? examples/s]"
      ]
     },
     "metadata": {},
     "output_type": "display_data"
    }
   ],
   "source": [
    "dataset.save_to_disk('dataset')"
   ]
  },
  {
   "cell_type": "markdown",
   "metadata": {},
   "source": [
    "\n",
    "- Upload to huggingface hub"
   ]
  },
  {
   "cell_type": "code",
   "execution_count": 14,
   "metadata": {},
   "outputs": [
    {
     "data": {
      "application/vnd.jupyter.widget-view+json": {
       "model_id": "da23f1fb05114efe8f1cb55c0df1809c",
       "version_major": 2,
       "version_minor": 0
      },
      "text/plain": [
       "Uploading the dataset shards:   0%|          | 0/1 [00:00<?, ?it/s]"
      ]
     },
     "metadata": {},
     "output_type": "display_data"
    },
    {
     "data": {
      "application/vnd.jupyter.widget-view+json": {
       "model_id": "644aafae263340f49d7341c113db517a",
       "version_major": 2,
       "version_minor": 0
      },
      "text/plain": [
       "Creating parquet from Arrow format:   0%|          | 0/1 [00:00<?, ?ba/s]"
      ]
     },
     "metadata": {},
     "output_type": "display_data"
    },
    {
     "data": {
      "application/vnd.jupyter.widget-view+json": {
       "model_id": "89b53624b39044e89474cbde0d27ffc7",
       "version_major": 2,
       "version_minor": 0
      },
      "text/plain": [
       "README.md:   0%|          | 0.00/299 [00:00<?, ?B/s]"
      ]
     },
     "metadata": {},
     "output_type": "display_data"
    },
    {
     "data": {
      "text/plain": [
       "CommitInfo(commit_url='https://huggingface.co/datasets/cy948/ksdoc-airscript/commit/c2044a7b61be5708d9e73fc282fb3ffd7c1e5ab2', commit_message='Upload dataset', commit_description='', oid='c2044a7b61be5708d9e73fc282fb3ffd7c1e5ab2', pr_url=None, repo_url=RepoUrl('https://huggingface.co/datasets/cy948/ksdoc-airscript', endpoint='https://huggingface.co', repo_type='dataset', repo_id='cy948/ksdoc-airscript'), pr_revision=None, pr_num=None)"
      ]
     },
     "execution_count": 14,
     "metadata": {},
     "output_type": "execute_result"
    }
   ],
   "source": [
    "dataset.push_to_hub('ksdoc-airscript')"
   ]
  }
 ],
 "metadata": {
  "kernelspec": {
   "display_name": "playground",
   "language": "python",
   "name": "python3"
  },
  "language_info": {
   "codemirror_mode": {
    "name": "ipython",
    "version": 3
   },
   "file_extension": ".py",
   "mimetype": "text/x-python",
   "name": "python",
   "nbconvert_exporter": "python",
   "pygments_lexer": "ipython3",
   "version": "3.12.7"
  }
 },
 "nbformat": 4,
 "nbformat_minor": 2
}
