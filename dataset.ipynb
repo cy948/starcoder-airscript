{
 "cells": [
  {
   "cell_type": "code",
   "execution_count": 1,
   "metadata": {},
   "outputs": [],
   "source": [
    "# Gobal variables\n",
    "FILE_LABELED_DATA_PATH = 'data/all.jsonl'\n",
    "FILE_LABELED_DATA_VERSION = '2.0'"
   ]
  },
  {
   "cell_type": "markdown",
   "metadata": {},
   "source": [
    "# Load and build dataset from labeled data"
   ]
  },
  {
   "cell_type": "markdown",
   "metadata": {},
   "source": [
    "## Parse the raw data from doccano"
   ]
  },
  {
   "cell_type": "markdown",
   "metadata": {},
   "source": [
    "- Download the labeled data from doccano and extract to `FILE_LEBELED_DATA`\n",
    "- Use the script to extract and load as in-memory dataset"
   ]
  },
  {
   "cell_type": "code",
   "execution_count": 3,
   "metadata": {},
   "outputs": [
    {
     "data": {
      "text/plain": [
       "Dataset({\n",
       "    features: ['link', 'code', 'version'],\n",
       "    num_rows: 4687\n",
       "})"
      ]
     },
     "execution_count": 3,
     "metadata": {},
     "output_type": "execute_result"
    }
   ],
   "source": [
    "import pandas as pd\n",
    "import jsonlines\n",
    "from datasets import Dataset\n",
    "\n",
    "raw_data = []\n",
    "with jsonlines.open(FILE_LABELED_DATA_PATH) as reader:\n",
    "    for obj in reader:\n",
    "        for label in obj['label']:\n",
    "            raw_data.append({\n",
    "                'link': obj['link'],\n",
    "                'code': label,\n",
    "                'version': FILE_LABELED_DATA_VERSION,\n",
    "            })\n",
    "\n",
    "dataset = Dataset.from_pandas(pd.DataFrame(raw_data), split='train')\n",
    "dataset"
   ]
  },
  {
   "cell_type": "markdown",
   "metadata": {},
   "source": [
    "## Save to local or Huggingface hub"
   ]
  },
  {
   "cell_type": "markdown",
   "metadata": {},
   "source": [
    "- Save to huggingface hub\n",
    "\n",
    "> \n",
    "> If not logged in, should login first\n",
    "> ```sh\n",
    ">   huggingface-cli login\n",
    ">\n",
    "> ```"
   ]
  },
  {
   "cell_type": "code",
   "execution_count": 3,
   "metadata": {},
   "outputs": [
    {
     "data": {
      "application/vnd.jupyter.widget-view+json": {
       "model_id": "4ad2a4507b194412ad646a8df0dcc714",
       "version_major": 2,
       "version_minor": 0
      },
      "text/plain": [
       "Saving the dataset (0/1 shards):   0%|          | 0/4403 [00:00<?, ? examples/s]"
      ]
     },
     "metadata": {},
     "output_type": "display_data"
    }
   ],
   "source": [
    "dataset.save_to_disk('dataset')"
   ]
  },
  {
   "cell_type": "markdown",
   "metadata": {},
   "source": [
    "\n",
    "- Upload to huggingface hub"
   ]
  },
  {
   "cell_type": "code",
   "execution_count": 4,
   "metadata": {},
   "outputs": [
    {
     "data": {
      "application/vnd.jupyter.widget-view+json": {
       "model_id": "77fa43f2802244bab0429b69c4db8bce",
       "version_major": 2,
       "version_minor": 0
      },
      "text/plain": [
       "Uploading the dataset shards:   0%|          | 0/1 [00:00<?, ?it/s]"
      ]
     },
     "metadata": {},
     "output_type": "display_data"
    },
    {
     "data": {
      "application/vnd.jupyter.widget-view+json": {
       "model_id": "fe78af93acd74b83941d047b4414021f",
       "version_major": 2,
       "version_minor": 0
      },
      "text/plain": [
       "Creating parquet from Arrow format:   0%|          | 0/5 [00:00<?, ?ba/s]"
      ]
     },
     "metadata": {},
     "output_type": "display_data"
    },
    {
     "data": {
      "application/vnd.jupyter.widget-view+json": {
       "model_id": "b1e754fc52104882a46ac2169cf308f2",
       "version_major": 2,
       "version_minor": 0
      },
      "text/plain": [
       "README.md:   0%|          | 0.00/453 [00:00<?, ?B/s]"
      ]
     },
     "metadata": {},
     "output_type": "display_data"
    },
    {
     "data": {
      "text/plain": [
       "CommitInfo(commit_url='https://huggingface.co/datasets/cy948/ksdoc-airscript/commit/02a237d2fd6fae5e6e22c78220696f6177fca7df', commit_message='Upload dataset', commit_description='', oid='02a237d2fd6fae5e6e22c78220696f6177fca7df', pr_url=None, repo_url=RepoUrl('https://huggingface.co/datasets/cy948/ksdoc-airscript', endpoint='https://huggingface.co', repo_type='dataset', repo_id='cy948/ksdoc-airscript'), pr_revision=None, pr_num=None)"
      ]
     },
     "execution_count": 4,
     "metadata": {},
     "output_type": "execute_result"
    }
   ],
   "source": [
    "dataset.push_to_hub('ksdoc-airscript')"
   ]
  }
 ],
 "metadata": {
  "kernelspec": {
   "display_name": "playground",
   "language": "python",
   "name": "python3"
  },
  "language_info": {
   "codemirror_mode": {
    "name": "ipython",
    "version": 3
   },
   "file_extension": ".py",
   "mimetype": "text/x-python",
   "name": "python",
   "nbconvert_exporter": "python",
   "pygments_lexer": "ipython3",
   "version": "3.12.7"
  }
 },
 "nbformat": 4,
 "nbformat_minor": 2
}
