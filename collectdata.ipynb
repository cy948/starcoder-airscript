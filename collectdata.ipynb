{
 "cells": [
  {
   "cell_type": "markdown",
   "metadata": {},
   "source": [
    "# Collect the metadata from AirScript Document Site"
   ]
  },
  {
   "cell_type": "markdown",
   "metadata": {},
   "source": [
    "## Get the meta data"
   ]
  },
  {
   "cell_type": "markdown",
   "metadata": {},
   "source": [
    "In order to get the page links from [document site](https://airsheet.wps.cn/docs/), we use some hack approach to get the site configuration from this url:\n",
    "\n",
    "```bash\n",
    "mkdir data\n",
    "cd data\n",
    "wget https://qn.cache.wpscdn.cn/asdocs/assets/chunks/metadata.cf317f8e.js\n",
    "```\n",
    "\n",
    "> The `cf317f8e` is likely to changed, just locate with `metadata.*`"
   ]
  },
  {
   "cell_type": "code",
   "execution_count": 1,
   "metadata": {},
   "outputs": [],
   "source": [
    "FILE_METADATA_PATH = 'data/metadata.cf317f8e.js'\n",
    "OUTPUT_FILE_PATH = 'data/not_labeled.jsonl'\n",
    "API_DOC_NAME = 'API文档(2.0)'\n",
    "API_DOC_VERSION = '2.0'\n",
    "\n",
    "import re\n",
    "import json\n",
    "\n",
    "with open(FILE_METADATA_PATH, 'r') as f:\n",
    "    js_content = f.read()\n",
    "\n",
    "data = []\n",
    "\n",
    "def extrac_from_apidoc(doc):\n",
    "    if ('items' in doc):\n",
    "        for item in doc['items']:\n",
    "            extrac_from_apidoc(item);\n",
    "        return;\n",
    "    data.append(doc)\n",
    "\n",
    "def map_to_output(doc):\n",
    "    return {\n",
    "        'text': doc['text'],\n",
    "        'version': API_DOC_VERSION,\n",
    "        'link': doc['link'],\n",
    "        'label': [],\n",
    "    }\n",
    "\n",
    "def output():\n",
    "    with open(OUTPUT_FILE_PATH, 'w') as f:\n",
    "        for doc in data:\n",
    "            # Use utf8 encode\n",
    "            json_line = json.dumps(map_to_output(doc), ensure_ascii=False)\n",
    "            f.write(json_line + '\\n')\n",
    "\n",
    "# 使用正则表达式查找匹配项\n",
    "pattern = r\"window\\.__VP_SITE_DATA__\\s*=\\s*JSON\\.parse\\((.*?)\\);\"\n",
    "match = re.search(pattern, js_content)\n",
    "\n",
    "if match:\n",
    "    extracted_text = match.group(1)  # 提取到的文本\n",
    "    # 使用 json 包解析\n",
    "    try:\n",
    "        json_str = json.loads(extracted_text) # 去除无关文本\n",
    "        json_dict = json.loads(json_str)\n",
    "        side_bar = json_dict['themeConfig']['sidebar']['/']\n",
    "        api_doc = list(filter(lambda x: x['text'] == API_DOC_NAME, side_bar))[0]\n",
    "        api_doc = extrac_from_apidoc(api_doc)\n",
    "        output()\n",
    "    except json.JSONDecodeError as e:\n",
    "        print(\"JSON 解析错误:\", e)\n",
    "else:\n",
    "    print(\"未找到匹配项, 请检查脚本是否存在\")"
   ]
  }
 ],
 "metadata": {
  "kernelspec": {
   "display_name": "playground",
   "language": "python",
   "name": "python3"
  },
  "language_info": {
   "codemirror_mode": {
    "name": "ipython",
    "version": 3
   },
   "file_extension": ".py",
   "mimetype": "text/x-python",
   "name": "python",
   "nbconvert_exporter": "python",
   "pygments_lexer": "ipython3",
   "version": "3.12.7"
  }
 },
 "nbformat": 4,
 "nbformat_minor": 2
}
